{
 "cells": [
  {
   "cell_type": "code",
   "execution_count": null,
   "id": "70324d05",
   "metadata": {},
   "outputs": [],
   "source": [
    "introduction to list datatype :"
   ]
  },
  {
   "cell_type": "code",
   "execution_count": null,
   "id": "255b2248",
   "metadata": {},
   "outputs": [],
   "source": [
    "defination : A list is a collection of items declared in a Particular order.\n",
    "classification : it is classified as an mutable data type\n",
    "how to define the list.....? []"
   ]
  },
  {
   "cell_type": "code",
   "execution_count": null,
   "id": "2b282bd8",
   "metadata": {},
   "outputs": [],
   "source": []
  },
  {
   "cell_type": "code",
   "execution_count": null,
   "id": "960a1297",
   "metadata": {},
   "outputs": [],
   "source": []
  },
  {
   "cell_type": "code",
   "execution_count": 2,
   "id": "299e0af4",
   "metadata": {},
   "outputs": [],
   "source": [
    "students = ['anil' , 'kumar' , 'sreeja' , 'keerthi' , 'rafi' , 'simran'] # 0,1,2,3,4,5"
   ]
  },
  {
   "cell_type": "code",
   "execution_count": 3,
   "id": "28f219e1",
   "metadata": {},
   "outputs": [
    {
     "name": "stdout",
     "output_type": "stream",
     "text": [
      "['anil', 'kumar', 'sreeja', 'keerthi', 'rafi', 'simran']\n"
     ]
    }
   ],
   "source": [
    "print(students)"
   ]
  },
  {
   "cell_type": "code",
   "execution_count": null,
   "id": "50dc57bc",
   "metadata": {},
   "outputs": [],
   "source": [
    "# req : i want to access kumar name from the above list.......?"
   ]
  },
  {
   "cell_type": "code",
   "execution_count": null,
   "id": "7fcae75c",
   "metadata": {},
   "outputs": [],
   "source": [
    "introduction to indexing : 0,1,2,3......n"
   ]
  },
  {
   "cell_type": "code",
   "execution_count": 4,
   "id": "8a0449ee",
   "metadata": {},
   "outputs": [
    {
     "name": "stdout",
     "output_type": "stream",
     "text": [
      "kumar\n"
     ]
    }
   ],
   "source": [
    "print(students[1])"
   ]
  },
  {
   "cell_type": "code",
   "execution_count": null,
   "id": "8729716c",
   "metadata": {},
   "outputs": [],
   "source": [
    "# req : i want to access keerthi name from the above list.......?"
   ]
  },
  {
   "cell_type": "code",
   "execution_count": 5,
   "id": "2c3952ee",
   "metadata": {},
   "outputs": [
    {
     "name": "stdout",
     "output_type": "stream",
     "text": [
      "keerthi\n"
     ]
    }
   ],
   "source": [
    "print(students[3])"
   ]
  },
  {
   "cell_type": "code",
   "execution_count": null,
   "id": "36c82298",
   "metadata": {},
   "outputs": [],
   "source": []
  },
  {
   "cell_type": "code",
   "execution_count": null,
   "id": "8e12b88d",
   "metadata": {},
   "outputs": [],
   "source": [
    "1. how to add new elements to the list.......?\n",
    "2. how to modify the elements in the list......?\n",
    "3. how to delete the elements in the list......?"
   ]
  },
  {
   "cell_type": "code",
   "execution_count": null,
   "id": "9f2fb9ff",
   "metadata": {},
   "outputs": [],
   "source": []
  },
  {
   "cell_type": "code",
   "execution_count": null,
   "id": "013d6fcb",
   "metadata": {},
   "outputs": [],
   "source": [
    "1. how to add new elements to the list.......?"
   ]
  },
  {
   "cell_type": "code",
   "execution_count": null,
   "id": "19b2e7a5",
   "metadata": {},
   "outputs": [],
   "source": []
  },
  {
   "cell_type": "code",
   "execution_count": null,
   "id": "9ed5f2da",
   "metadata": {},
   "outputs": [],
   "source": [
    "# req : i want to add naveen name to the above list.......?"
   ]
  },
  {
   "cell_type": "code",
   "execution_count": null,
   "id": "465190f3",
   "metadata": {},
   "outputs": [],
   "source": [
    "note :- always use \"student.append('')\"  in order to add a new element"
   ]
  },
  {
   "cell_type": "code",
   "execution_count": 7,
   "id": "dd290dd0",
   "metadata": {},
   "outputs": [],
   "source": [
    "students.append('naveen')"
   ]
  },
  {
   "cell_type": "code",
   "execution_count": 8,
   "id": "6aeb645a",
   "metadata": {},
   "outputs": [
    {
     "name": "stdout",
     "output_type": "stream",
     "text": [
      "['anil', 'kumar', 'sreeja', 'keerthi', 'rafi', 'simran', 'naveen']\n"
     ]
    }
   ],
   "source": [
    "print(students)"
   ]
  },
  {
   "cell_type": "code",
   "execution_count": null,
   "id": "e19c2b3b",
   "metadata": {},
   "outputs": [],
   "source": [
    "# req : i want to add adil name to the above list.......?"
   ]
  },
  {
   "cell_type": "code",
   "execution_count": null,
   "id": "069ce0e2",
   "metadata": {},
   "outputs": [],
   "source": []
  },
  {
   "cell_type": "code",
   "execution_count": 9,
   "id": "8435147f",
   "metadata": {},
   "outputs": [],
   "source": [
    "students.append('adil')"
   ]
  },
  {
   "cell_type": "code",
   "execution_count": 10,
   "id": "8b398fa0",
   "metadata": {},
   "outputs": [
    {
     "name": "stdout",
     "output_type": "stream",
     "text": [
      "['anil', 'kumar', 'sreeja', 'keerthi', 'rafi', 'simran', 'naveen', 'adil']\n"
     ]
    }
   ],
   "source": [
    "print(students)"
   ]
  },
  {
   "cell_type": "code",
   "execution_count": null,
   "id": "1c3d1b93",
   "metadata": {},
   "outputs": [],
   "source": []
  },
  {
   "cell_type": "code",
   "execution_count": null,
   "id": "3543eaeb",
   "metadata": {},
   "outputs": [],
   "source": []
  },
  {
   "cell_type": "code",
   "execution_count": null,
   "id": "fc94c186",
   "metadata": {},
   "outputs": [],
   "source": [
    "#req : i want to add pallavi to the second index.......?"
   ]
  },
  {
   "cell_type": "code",
   "execution_count": null,
   "id": "86917576",
   "metadata": {},
   "outputs": [],
   "source": [
    "note :- use \"[students.insert(no.,'name')] to add and insert the element between index"
   ]
  },
  {
   "cell_type": "code",
   "execution_count": null,
   "id": "567a8ac4",
   "metadata": {},
   "outputs": [],
   "source": []
  },
  {
   "cell_type": "code",
   "execution_count": 12,
   "id": "daaac25b",
   "metadata": {},
   "outputs": [],
   "source": [
    "students.insert(2,'pallavi')"
   ]
  },
  {
   "cell_type": "code",
   "execution_count": 13,
   "id": "9ef3fc83",
   "metadata": {},
   "outputs": [
    {
     "name": "stdout",
     "output_type": "stream",
     "text": [
      "['anil', 'kumar', 'pallavi', 'sreeja', 'keerthi', 'rafi', 'simran', 'naveen', 'adil']\n"
     ]
    }
   ],
   "source": [
    "print(students)"
   ]
  },
  {
   "cell_type": "code",
   "execution_count": null,
   "id": "fcfa0e93",
   "metadata": {},
   "outputs": [],
   "source": []
  },
  {
   "cell_type": "code",
   "execution_count": 14,
   "id": "210d32ae",
   "metadata": {},
   "outputs": [
    {
     "name": "stdout",
     "output_type": "stream",
     "text": [
      "pallavi\n"
     ]
    }
   ],
   "source": [
    "print(students[2])"
   ]
  },
  {
   "cell_type": "code",
   "execution_count": null,
   "id": "915b5718",
   "metadata": {},
   "outputs": [],
   "source": []
  },
  {
   "cell_type": "code",
   "execution_count": null,
   "id": "9038b787",
   "metadata": {},
   "outputs": [],
   "source": [
    "what is the diffrence between append and insert method in a list.....?\n",
    "ans ---- append method is used to add new elements in the list while insert method is used to \n",
    "add and insert new elements between the indexes"
   ]
  },
  {
   "cell_type": "code",
   "execution_count": null,
   "id": "1eb63880",
   "metadata": {},
   "outputs": [],
   "source": []
  },
  {
   "cell_type": "code",
   "execution_count": null,
   "id": "0851aa72",
   "metadata": {},
   "outputs": [],
   "source": [
    "2. how to modify the elements in the list......?"
   ]
  },
  {
   "cell_type": "code",
   "execution_count": 15,
   "id": "99149463",
   "metadata": {},
   "outputs": [
    {
     "name": "stdout",
     "output_type": "stream",
     "text": [
      "['anil', 'kumar', 'pallavi', 'sreeja', 'keerthi', 'rafi', 'simran', 'naveen', 'adil']\n"
     ]
    }
   ],
   "source": [
    "print(students)"
   ]
  },
  {
   "cell_type": "code",
   "execution_count": null,
   "id": "587eb4be",
   "metadata": {},
   "outputs": [],
   "source": [
    "# i want to change sreeja name to meghana....?"
   ]
  },
  {
   "cell_type": "code",
   "execution_count": 16,
   "id": "7f6b2e6c",
   "metadata": {},
   "outputs": [
    {
     "name": "stdout",
     "output_type": "stream",
     "text": [
      "sreeja\n"
     ]
    }
   ],
   "source": [
    "print(students[3])"
   ]
  },
  {
   "cell_type": "code",
   "execution_count": 19,
   "id": "ecff9381",
   "metadata": {},
   "outputs": [],
   "source": [
    "students[3] = 'meghana'"
   ]
  },
  {
   "cell_type": "code",
   "execution_count": 20,
   "id": "04936640",
   "metadata": {},
   "outputs": [
    {
     "name": "stdout",
     "output_type": "stream",
     "text": [
      "meghana\n"
     ]
    }
   ],
   "source": [
    "print(students[3])"
   ]
  },
  {
   "cell_type": "code",
   "execution_count": 21,
   "id": "e17bfbfa",
   "metadata": {},
   "outputs": [
    {
     "name": "stdout",
     "output_type": "stream",
     "text": [
      "['anil', 'kumar', 'pallavi', 'meghana', 'keerthi', 'rafi', 'simran', 'naveen', 'adil']\n"
     ]
    }
   ],
   "source": [
    "print(students)"
   ]
  },
  {
   "cell_type": "code",
   "execution_count": null,
   "id": "9c22b87c",
   "metadata": {},
   "outputs": [],
   "source": []
  },
  {
   "cell_type": "code",
   "execution_count": null,
   "id": "3b7351d3",
   "metadata": {},
   "outputs": [],
   "source": [
    "3. how to delete the elements in the list......?"
   ]
  },
  {
   "cell_type": "code",
   "execution_count": null,
   "id": "e6ce1fd9",
   "metadata": {},
   "outputs": [],
   "source": [
    "#req : i want to delete anil name from the list......?"
   ]
  },
  {
   "cell_type": "code",
   "execution_count": null,
   "id": "33583d5c",
   "metadata": {},
   "outputs": [],
   "source": []
  },
  {
   "cell_type": "code",
   "execution_count": null,
   "id": "cc4429f0",
   "metadata": {},
   "outputs": [],
   "source": [
    "use (del students[index]) to delete the element from the list"
   ]
  },
  {
   "cell_type": "code",
   "execution_count": null,
   "id": "3448d186",
   "metadata": {},
   "outputs": [],
   "source": []
  },
  {
   "cell_type": "code",
   "execution_count": 22,
   "id": "1400edf6",
   "metadata": {},
   "outputs": [],
   "source": [
    "del students[0]"
   ]
  },
  {
   "cell_type": "code",
   "execution_count": 23,
   "id": "dc60886f",
   "metadata": {},
   "outputs": [
    {
     "name": "stdout",
     "output_type": "stream",
     "text": [
      "['kumar', 'pallavi', 'meghana', 'keerthi', 'rafi', 'simran', 'naveen', 'adil']\n"
     ]
    }
   ],
   "source": [
    "print(students)"
   ]
  },
  {
   "cell_type": "code",
   "execution_count": null,
   "id": "0e3df7bf",
   "metadata": {},
   "outputs": [],
   "source": []
  },
  {
   "cell_type": "code",
   "execution_count": null,
   "id": "ce8d5acf",
   "metadata": {},
   "outputs": [],
   "source": []
  }
 ],
 "metadata": {
  "kernelspec": {
   "display_name": "Python 3 (ipykernel)",
   "language": "python",
   "name": "python3"
  },
  "language_info": {
   "codemirror_mode": {
    "name": "ipython",
    "version": 3
   },
   "file_extension": ".py",
   "mimetype": "text/x-python",
   "name": "python",
   "nbconvert_exporter": "python",
   "pygments_lexer": "ipython3",
   "version": "3.9.7"
  }
 },
 "nbformat": 4,
 "nbformat_minor": 5
}
